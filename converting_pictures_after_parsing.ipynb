{
 "cells": [
  {
   "cell_type": "code",
   "execution_count": 29,
   "metadata": {},
   "outputs": [],
   "source": [
    "from scipy import misc\n",
    "import cv2\n",
    "import os\n",
    "data = os.listdir(\"Desktop/DataBase\")\n",
    "firstname = 1\n",
    "for i in range(0,len(data)):\n",
    "    ishname = \"Desktop/DataBase/\"+data[i]\n",
    "    img = cv2.imread(ishname)\n",
    "    height, width, something = img.shape\n",
    "    heightofscene = round(width/1.2440)\n",
    "    how_many_scene = round(height/heightofscene)\n",
    "    height_cutoff = round(height / how_many_scene)\n",
    "    index = 1\n",
    "    s1 = img[:height_cutoff, :]\n",
    "    name = str(firstname)+'_'+str(index)+'.png'\n",
    "    tosave = \"Desktop/NewDataBase/\"+name\n",
    "    cv2.imwrite(tosave, s1)\n",
    "    index+=1\n",
    "    while index+1<=how_many_scene:\n",
    "        upper_bound = index*height_cutoff\n",
    "        bottom_line = (index+1)*height_cutoff\n",
    "        sn = img[upper_bound:bottom_line, :]\n",
    "        name = str(firstname)+'_'+str(index)+'.png'\n",
    "        tosave = \"Desktop/NewDataBase/\"+name\n",
    "        cv2.imwrite(tosave, sn)\n",
    "        index+=1\n",
    "    firstname+=1"
   ]
  },
  {
   "cell_type": "code",
   "execution_count": null,
   "metadata": {},
   "outputs": [],
   "source": []
  },
  {
   "cell_type": "code",
   "execution_count": null,
   "metadata": {},
   "outputs": [],
   "source": []
  },
  {
   "cell_type": "code",
   "execution_count": null,
   "metadata": {},
   "outputs": [],
   "source": []
  }
 ],
 "metadata": {
  "kernelspec": {
   "display_name": "Python 3",
   "language": "python",
   "name": "python3"
  },
  "language_info": {
   "codemirror_mode": {
    "name": "ipython",
    "version": 3
   },
   "file_extension": ".py",
   "mimetype": "text/x-python",
   "name": "python",
   "nbconvert_exporter": "python",
   "pygments_lexer": "ipython3",
   "version": "3.8.3"
  }
 },
 "nbformat": 4,
 "nbformat_minor": 4
}
